{
 "cells": [
  {
   "cell_type": "markdown",
   "metadata": {},
   "source": [
    "## Problem Statement"
   ]
  },
  {
   "cell_type": "markdown",
   "metadata": {},
   "source": [
    "The dataset consists of 10,000 reviews which are classified into 'Label 1' and 'Label 2'. The attached file has two columns 'Text' and 'Label'.\n",
    "\n",
    "1) Perform Text Pre-processing steps to clean reviews\n",
    "\n",
    "2) Derive features from text data \n",
    "\n",
    "3) Build different Machine Learning Models for text classification and compare the results"
   ]
  },
  {
   "cell_type": "markdown",
   "metadata": {},
   "source": [
    "#### Importing the required libraries"
   ]
  },
  {
   "cell_type": "code",
   "execution_count": 1,
   "metadata": {},
   "outputs": [],
   "source": [
    "import re\n",
    "import pandas as pd\n",
    "import numpy as np\n",
    "import nltk\n",
    "from nltk.tokenize import word_tokenize\n",
    "from nltk import pos_tag\n",
    "from nltk.corpus import stopwords\n",
    "from nltk.stem import WordNetLemmatizer\n",
    "\n",
    "from sklearn.preprocessing import LabelEncoder\n",
    "from collections import defaultdict\n",
    "from nltk.corpus import wordnet as wn\n",
    "\n",
    "from sklearn.feature_extraction.text import TfidfVectorizer\n",
    "from sklearn import model_selection, naive_bayes, svm\n",
    "from sklearn.metrics import accuracy_score, recall_score, precision_score\n",
    "\n",
    "from sklearn.model_selection import train_test_split\n",
    "\n",
    "import warnings\n",
    "warnings.filterwarnings(\"ignore\")"
   ]
  },
  {
   "cell_type": "markdown",
   "metadata": {},
   "source": [
    "#### Reading the dataset"
   ]
  },
  {
   "cell_type": "code",
   "execution_count": 2,
   "metadata": {},
   "outputs": [],
   "source": [
    "corpus = pd.read_csv(\"corpus.csv\",delimiter=\"\\t\",encoding='utf-8')"
   ]
  },
  {
   "cell_type": "markdown",
   "metadata": {},
   "source": [
    "#### Check the number of rows and columns"
   ]
  },
  {
   "cell_type": "code",
   "execution_count": 3,
   "metadata": {},
   "outputs": [
    {
     "data": {
      "text/plain": [
       "(10000, 1)"
      ]
     },
     "execution_count": 3,
     "metadata": {},
     "output_type": "execute_result"
    }
   ],
   "source": [
    "corpus.shape"
   ]
  },
  {
   "cell_type": "code",
   "execution_count": 4,
   "metadata": {},
   "outputs": [],
   "source": [
    "pd.set_option('display.max_colwidth', 800)"
   ]
  },
  {
   "cell_type": "markdown",
   "metadata": {},
   "source": [
    "#### Display top rows"
   ]
  },
  {
   "cell_type": "code",
   "execution_count": 5,
   "metadata": {},
   "outputs": [
    {
     "data": {
      "text/html": [
       "<div>\n",
       "<style scoped>\n",
       "    .dataframe tbody tr th:only-of-type {\n",
       "        vertical-align: middle;\n",
       "    }\n",
       "\n",
       "    .dataframe tbody tr th {\n",
       "        vertical-align: top;\n",
       "    }\n",
       "\n",
       "    .dataframe thead th {\n",
       "        text-align: right;\n",
       "    }\n",
       "</style>\n",
       "<table border=\"1\" class=\"dataframe\">\n",
       "  <thead>\n",
       "    <tr style=\"text-align: right;\">\n",
       "      <th></th>\n",
       "      <th>text,label</th>\n",
       "    </tr>\n",
       "  </thead>\n",
       "  <tbody>\n",
       "    <tr>\n",
       "      <th>0</th>\n",
       "      <td>Stuning even for the non-gamer: This sound track was beautiful! It paints the senery in your mind so well I would recomend it even to people who hate video game music! I have played the game Chrono Cross but out of all of the games I have ever played it has the best music! It backs away from crude keyboarding and takes a fresher step with grate guitars and soulful orchestras. It would impress anyone who cares to listen! ^_^,__label__2</td>\n",
       "    </tr>\n",
       "    <tr>\n",
       "      <th>1</th>\n",
       "      <td>The best soundtrack ever to anything.: I'm reading a lot of reviews saying that this is the best 'game soundtrack' and I figured that I'd write a review to disagree a bit. This in my opinino is Yasunori Mitsuda's ultimate masterpiece. The music is timeless and I'm been listening to it for years now and its beauty simply refuses to fade.The price tag on this is pretty staggering I must say, but if you are going to buy any cd for this much money, this is the only one that I feel would be worth every penny.,__label__2</td>\n",
       "    </tr>\n",
       "    <tr>\n",
       "      <th>2</th>\n",
       "      <td>Amazing!: This soundtrack is my favorite music of all time, hands down. The intense sadness of \"Prisoners of Fate\" (which means all the more if you've played the game) and the hope in \"A Distant Promise\" and \"Girl who Stole the Star\" have been an important inspiration to me personally throughout my teen years. The higher energy tracks like \"Chrono Cross ~ Time's Scar~\", \"Time of the Dreamwatch\", and \"Chronomantique\" (indefinably remeniscent of Chrono Trigger) are all absolutely superb as well.This soundtrack is amazing music, probably the best of this composer's work (I haven't heard the Xenogears soundtrack, so I can't say for sure), and even if you've never played the game, it would be worth twice the price to buy it.I wish I could give it 6 stars.,__label__2</td>\n",
       "    </tr>\n",
       "    <tr>\n",
       "      <th>3</th>\n",
       "      <td>Excellent Soundtrack: I truly like this soundtrack and I enjoy video game music. I have played this game and most of the music on here I enjoy and it's truly relaxing and peaceful.On disk one. my favorites are Scars Of Time, Between Life and Death, Forest Of Illusion, Fortress of Ancient Dragons, Lost Fragment, and Drowned Valley.Disk Two: The Draggons, Galdorb - Home, Chronomantique, Prisoners of Fate, Gale, and my girlfriend likes ZelbessDisk Three: The best of the three. Garden Of God, Chronopolis, Fates, Jellyfish sea, Burning Orphange, Dragon's Prayer, Tower Of Stars, Dragon God, and Radical Dreamers - Unstealable Jewel.Overall, this is a excellent soundtrack and should be brought by those that like video game music.Xander Cross,__label__2</td>\n",
       "    </tr>\n",
       "    <tr>\n",
       "      <th>4</th>\n",
       "      <td>Remember, Pull Your Jaw Off The Floor After Hearing it: If you've played the game, you know how divine the music is! Every single song tells a story of the game, it's that good! The greatest songs are without a doubt, Chrono Cross: Time's Scar, Magical Dreamers: The Wind, The Stars, and the Sea and Radical Dreamers: Unstolen Jewel. (Translation varies) This music is perfect if you ask me, the best it can be. Yasunori Mitsuda just poured his heart on and wrote it down on paper.,__label__2</td>\n",
       "    </tr>\n",
       "  </tbody>\n",
       "</table>\n",
       "</div>"
      ],
      "text/plain": [
       "                                                                                                                                                                                                                                                                                                                                                                                                                                                                                                                                                                                                                                                                                                                                                                                              text,label\n",
       "0                                                                                                                                                                                                                                                                                                                                                Stuning even for the non-gamer: This sound track was beautiful! It paints the senery in your mind so well I would recomend it even to people who hate video game music! I have played the game Chrono Cross but out of all of the games I have ever played it has the best music! It backs away from crude keyboarding and takes a fresher step with grate guitars and soulful orchestras. It would impress anyone who cares to listen! ^_^,__label__2 \n",
       "1                                                                                                                                                                                                                                                              The best soundtrack ever to anything.: I'm reading a lot of reviews saying that this is the best 'game soundtrack' and I figured that I'd write a review to disagree a bit. This in my opinino is Yasunori Mitsuda's ultimate masterpiece. The music is timeless and I'm been listening to it for years now and its beauty simply refuses to fade.The price tag on this is pretty staggering I must say, but if you are going to buy any cd for this much money, this is the only one that I feel would be worth every penny.,__label__2 \n",
       "2   Amazing!: This soundtrack is my favorite music of all time, hands down. The intense sadness of \"Prisoners of Fate\" (which means all the more if you've played the game) and the hope in \"A Distant Promise\" and \"Girl who Stole the Star\" have been an important inspiration to me personally throughout my teen years. The higher energy tracks like \"Chrono Cross ~ Time's Scar~\", \"Time of the Dreamwatch\", and \"Chronomantique\" (indefinably remeniscent of Chrono Trigger) are all absolutely superb as well.This soundtrack is amazing music, probably the best of this composer's work (I haven't heard the Xenogears soundtrack, so I can't say for sure), and even if you've never played the game, it would be worth twice the price to buy it.I wish I could give it 6 stars.,__label__2 \n",
       "3                    Excellent Soundtrack: I truly like this soundtrack and I enjoy video game music. I have played this game and most of the music on here I enjoy and it's truly relaxing and peaceful.On disk one. my favorites are Scars Of Time, Between Life and Death, Forest Of Illusion, Fortress of Ancient Dragons, Lost Fragment, and Drowned Valley.Disk Two: The Draggons, Galdorb - Home, Chronomantique, Prisoners of Fate, Gale, and my girlfriend likes ZelbessDisk Three: The best of the three. Garden Of God, Chronopolis, Fates, Jellyfish sea, Burning Orphange, Dragon's Prayer, Tower Of Stars, Dragon God, and Radical Dreamers - Unstealable Jewel.Overall, this is a excellent soundtrack and should be brought by those that like video game music.Xander Cross,__label__2 \n",
       "4                                                                                                                                                                                                                                                                                          Remember, Pull Your Jaw Off The Floor After Hearing it: If you've played the game, you know how divine the music is! Every single song tells a story of the game, it's that good! The greatest songs are without a doubt, Chrono Cross: Time's Scar, Magical Dreamers: The Wind, The Stars, and the Sea and Radical Dreamers: Unstolen Jewel. (Translation varies) This music is perfect if you ask me, the best it can be. Yasunori Mitsuda just poured his heart on and wrote it down on paper.,__label__2 "
      ]
     },
     "execution_count": 5,
     "metadata": {},
     "output_type": "execute_result"
    }
   ],
   "source": [
    "corpus.head()"
   ]
  },
  {
   "cell_type": "markdown",
   "metadata": {},
   "source": [
    "#### Searching and grouping to split the data using regular expression"
   ]
  },
  {
   "cell_type": "code",
   "execution_count": 6,
   "metadata": {},
   "outputs": [
    {
     "data": {
      "text/plain": [
       "'label__2'"
      ]
     },
     "execution_count": 6,
     "metadata": {},
     "output_type": "execute_result"
    }
   ],
   "source": [
    "corpus['label']=[re.search(r\"label__\\d\", text).group() for text in corpus['text,label']]\n",
    "corpus['label'][2]"
   ]
  },
  {
   "cell_type": "markdown",
   "metadata": {},
   "source": [
    "#### Splitting the label and text columns"
   ]
  },
  {
   "cell_type": "code",
   "execution_count": 7,
   "metadata": {},
   "outputs": [],
   "source": [
    "corpus['text']=[re.split(r\"__label__\\d\", text)[0] for text in corpus['text,label']]"
   ]
  },
  {
   "cell_type": "code",
   "execution_count": 8,
   "metadata": {},
   "outputs": [],
   "source": [
    "corpus.drop(columns =[\"text,label\"], inplace = True) "
   ]
  },
  {
   "cell_type": "code",
   "execution_count": 9,
   "metadata": {},
   "outputs": [
    {
     "data": {
      "text/html": [
       "<div>\n",
       "<style scoped>\n",
       "    .dataframe tbody tr th:only-of-type {\n",
       "        vertical-align: middle;\n",
       "    }\n",
       "\n",
       "    .dataframe tbody tr th {\n",
       "        vertical-align: top;\n",
       "    }\n",
       "\n",
       "    .dataframe thead th {\n",
       "        text-align: right;\n",
       "    }\n",
       "</style>\n",
       "<table border=\"1\" class=\"dataframe\">\n",
       "  <thead>\n",
       "    <tr style=\"text-align: right;\">\n",
       "      <th></th>\n",
       "      <th>label</th>\n",
       "      <th>text</th>\n",
       "    </tr>\n",
       "  </thead>\n",
       "  <tbody>\n",
       "    <tr>\n",
       "      <th>0</th>\n",
       "      <td>label__2</td>\n",
       "      <td>Stuning even for the non-gamer: This sound track was beautiful! It paints the senery in your mind so well I would recomend it even to people who hate video game music! I have played the game Chrono Cross but out of all of the games I have ever played it has the best music! It backs away from crude keyboarding and takes a fresher step with grate guitars and soulful orchestras. It would impress anyone who cares to listen! ^_^,</td>\n",
       "    </tr>\n",
       "    <tr>\n",
       "      <th>1</th>\n",
       "      <td>label__2</td>\n",
       "      <td>The best soundtrack ever to anything.: I'm reading a lot of reviews saying that this is the best 'game soundtrack' and I figured that I'd write a review to disagree a bit. This in my opinino is Yasunori Mitsuda's ultimate masterpiece. The music is timeless and I'm been listening to it for years now and its beauty simply refuses to fade.The price tag on this is pretty staggering I must say, but if you are going to buy any cd for this much money, this is the only one that I feel would be worth every penny.,</td>\n",
       "    </tr>\n",
       "    <tr>\n",
       "      <th>2</th>\n",
       "      <td>label__2</td>\n",
       "      <td>Amazing!: This soundtrack is my favorite music of all time, hands down. The intense sadness of \"Prisoners of Fate\" (which means all the more if you've played the game) and the hope in \"A Distant Promise\" and \"Girl who Stole the Star\" have been an important inspiration to me personally throughout my teen years. The higher energy tracks like \"Chrono Cross ~ Time's Scar~\", \"Time of the Dreamwatch\", and \"Chronomantique\" (indefinably remeniscent of Chrono Trigger) are all absolutely superb as well.This soundtrack is amazing music, probably the best of this composer's work (I haven't heard the Xenogears soundtrack, so I can't say for sure), and even if you've never played the game, it would be worth twice the price to buy it.I wish I could give it 6 stars.,</td>\n",
       "    </tr>\n",
       "    <tr>\n",
       "      <th>3</th>\n",
       "      <td>label__2</td>\n",
       "      <td>Excellent Soundtrack: I truly like this soundtrack and I enjoy video game music. I have played this game and most of the music on here I enjoy and it's truly relaxing and peaceful.On disk one. my favorites are Scars Of Time, Between Life and Death, Forest Of Illusion, Fortress of Ancient Dragons, Lost Fragment, and Drowned Valley.Disk Two: The Draggons, Galdorb - Home, Chronomantique, Prisoners of Fate, Gale, and my girlfriend likes ZelbessDisk Three: The best of the three. Garden Of God, Chronopolis, Fates, Jellyfish sea, Burning Orphange, Dragon's Prayer, Tower Of Stars, Dragon God, and Radical Dreamers - Unstealable Jewel.Overall, this is a excellent soundtrack and should be brought by those that like video game music.Xander Cross,</td>\n",
       "    </tr>\n",
       "    <tr>\n",
       "      <th>4</th>\n",
       "      <td>label__2</td>\n",
       "      <td>Remember, Pull Your Jaw Off The Floor After Hearing it: If you've played the game, you know how divine the music is! Every single song tells a story of the game, it's that good! The greatest songs are without a doubt, Chrono Cross: Time's Scar, Magical Dreamers: The Wind, The Stars, and the Sea and Radical Dreamers: Unstolen Jewel. (Translation varies) This music is perfect if you ask me, the best it can be. Yasunori Mitsuda just poured his heart on and wrote it down on paper.,</td>\n",
       "    </tr>\n",
       "    <tr>\n",
       "      <th>...</th>\n",
       "      <td>...</td>\n",
       "      <td>...</td>\n",
       "    </tr>\n",
       "    <tr>\n",
       "      <th>9995</th>\n",
       "      <td>label__2</td>\n",
       "      <td>A revelation of life in small town America in early 1900s: Though a scholarly biography, the book reveals much more about life in a small mid-west America town at the turn of the century than many other biographies or novels. Well worth reading for an insight into \"news\" that didn't make most newspapers but which was true in revealing life, the book is nicely crafted and the author writes with a knowing touch.One would wish for more intimate details of the subject's life, but he was a private man, kept no diary, and did not tell his innermost thoughts to his family. The book, however, succeeds, because it reveals the town, Lamar, MO (which happened to be President Truman's birthplace, and where Wyatt Earp had been Marshall and where the Earp kinfolk lived on) and some of the foibles a...</td>\n",
       "    </tr>\n",
       "    <tr>\n",
       "      <th>9996</th>\n",
       "      <td>label__2</td>\n",
       "      <td>Great biography of a very interesting journalist: This biography of Arthur Aull, a small-town journalist at the turn of the twentieth century, is a most fascinating read. The role of the small-town newspaper publisher carried much of the moral weight of towns like Lamar, Missouri, during the first half of the twentieth century before the era of instant news carried by radio and television changed everything. The author does a fine job of demonstrating the role in both politics and society that newspaper publishers played during this era. Arthur Aull was routinely used as a classic example of the important role of journalists in developing America by the Journalism School of the University of Missouri. In addition, he was a character that continues to shape the nature of the small town...</td>\n",
       "    </tr>\n",
       "    <tr>\n",
       "      <th>9997</th>\n",
       "      <td>label__1</td>\n",
       "      <td>Interesting Subject; Poor Presentation: You'd be hard-pressed to tell a boring story about about a plucky country newspaper editor who had principles and stuck to 'em. But this author has done it. He says the book is an adaptation of his doctoral thesis. That fits. The book reads like a well-done, fully footnoted college paper, not like a dramatic novel. It strives to identify key historical facts at the expense of the reader's interest. With a modest amount of effort, it could have been reworked as a compelling autobiographical novel bolstered by its remarkable display of features of midwestern life during the first half of the 20th Century.,</td>\n",
       "    </tr>\n",
       "    <tr>\n",
       "      <th>9998</th>\n",
       "      <td>label__1</td>\n",
       "      <td>Don't buy: The box looked used and it is obviously not new. I have tried to contact them by email and no response. Don't buy from them!,</td>\n",
       "    </tr>\n",
       "    <tr>\n",
       "      <th>9999</th>\n",
       "      <td>label__2</td>\n",
       "      <td>Beautiful Pen and Fast Delivery.: The pen was shipped promptly. This is the classic Montblanc pen that everyone raves about. It is Black in color with Golden Trim. It holds it's own and I am thankful to my parents to gift this to me as a Graduation Present. Someday I plan on buying more of these pens from Amazon.The vendors at Amazon are amazing. I have been a long time shopper at Amazon, mostly pens and electronics. However this pen was gifted to me by my mom and she has nothing but good things to say. I on my part love this pen.,</td>\n",
       "    </tr>\n",
       "  </tbody>\n",
       "</table>\n",
       "<p>10000 rows × 2 columns</p>\n",
       "</div>"
      ],
      "text/plain": [
       "         label  \\\n",
       "0     label__2   \n",
       "1     label__2   \n",
       "2     label__2   \n",
       "3     label__2   \n",
       "4     label__2   \n",
       "...        ...   \n",
       "9995  label__2   \n",
       "9996  label__2   \n",
       "9997  label__1   \n",
       "9998  label__1   \n",
       "9999  label__2   \n",
       "\n",
       "                                                                                                                                                                                                                                                                                                                                                                                                                                                                                                                                                                                                                                                                                                                                                                                                                                 text  \n",
       "0                                                                                                                                                                                                                                                                                                                                                                                        Stuning even for the non-gamer: This sound track was beautiful! It paints the senery in your mind so well I would recomend it even to people who hate video game music! I have played the game Chrono Cross but out of all of the games I have ever played it has the best music! It backs away from crude keyboarding and takes a fresher step with grate guitars and soulful orchestras. It would impress anyone who cares to listen! ^_^,  \n",
       "1                                                                                                                                                                                                                                                                                                      The best soundtrack ever to anything.: I'm reading a lot of reviews saying that this is the best 'game soundtrack' and I figured that I'd write a review to disagree a bit. This in my opinino is Yasunori Mitsuda's ultimate masterpiece. The music is timeless and I'm been listening to it for years now and its beauty simply refuses to fade.The price tag on this is pretty staggering I must say, but if you are going to buy any cd for this much money, this is the only one that I feel would be worth every penny.,  \n",
       "2                                           Amazing!: This soundtrack is my favorite music of all time, hands down. The intense sadness of \"Prisoners of Fate\" (which means all the more if you've played the game) and the hope in \"A Distant Promise\" and \"Girl who Stole the Star\" have been an important inspiration to me personally throughout my teen years. The higher energy tracks like \"Chrono Cross ~ Time's Scar~\", \"Time of the Dreamwatch\", and \"Chronomantique\" (indefinably remeniscent of Chrono Trigger) are all absolutely superb as well.This soundtrack is amazing music, probably the best of this composer's work (I haven't heard the Xenogears soundtrack, so I can't say for sure), and even if you've never played the game, it would be worth twice the price to buy it.I wish I could give it 6 stars.,  \n",
       "3                                                            Excellent Soundtrack: I truly like this soundtrack and I enjoy video game music. I have played this game and most of the music on here I enjoy and it's truly relaxing and peaceful.On disk one. my favorites are Scars Of Time, Between Life and Death, Forest Of Illusion, Fortress of Ancient Dragons, Lost Fragment, and Drowned Valley.Disk Two: The Draggons, Galdorb - Home, Chronomantique, Prisoners of Fate, Gale, and my girlfriend likes ZelbessDisk Three: The best of the three. Garden Of God, Chronopolis, Fates, Jellyfish sea, Burning Orphange, Dragon's Prayer, Tower Of Stars, Dragon God, and Radical Dreamers - Unstealable Jewel.Overall, this is a excellent soundtrack and should be brought by those that like video game music.Xander Cross,  \n",
       "4                                                                                                                                                                                                                                                                                                                                  Remember, Pull Your Jaw Off The Floor After Hearing it: If you've played the game, you know how divine the music is! Every single song tells a story of the game, it's that good! The greatest songs are without a doubt, Chrono Cross: Time's Scar, Magical Dreamers: The Wind, The Stars, and the Sea and Radical Dreamers: Unstolen Jewel. (Translation varies) This music is perfect if you ask me, the best it can be. Yasunori Mitsuda just poured his heart on and wrote it down on paper.,  \n",
       "...                                                                                                                                                                                                                                                                                                                                                                                                                                                                                                                                                                                                                                                                                                                                                                                                                               ...  \n",
       "9995   A revelation of life in small town America in early 1900s: Though a scholarly biography, the book reveals much more about life in a small mid-west America town at the turn of the century than many other biographies or novels. Well worth reading for an insight into \"news\" that didn't make most newspapers but which was true in revealing life, the book is nicely crafted and the author writes with a knowing touch.One would wish for more intimate details of the subject's life, but he was a private man, kept no diary, and did not tell his innermost thoughts to his family. The book, however, succeeds, because it reveals the town, Lamar, MO (which happened to be President Truman's birthplace, and where Wyatt Earp had been Marshall and where the Earp kinfolk lived on) and some of the foibles a...  \n",
       "9996   Great biography of a very interesting journalist: This biography of Arthur Aull, a small-town journalist at the turn of the twentieth century, is a most fascinating read. The role of the small-town newspaper publisher carried much of the moral weight of towns like Lamar, Missouri, during the first half of the twentieth century before the era of instant news carried by radio and television changed everything. The author does a fine job of demonstrating the role in both politics and society that newspaper publishers played during this era. Arthur Aull was routinely used as a classic example of the important role of journalists in developing America by the Journalism School of the University of Missouri. In addition, he was a character that continues to shape the nature of the small town...  \n",
       "9997                                                                                                                                                      Interesting Subject; Poor Presentation: You'd be hard-pressed to tell a boring story about about a plucky country newspaper editor who had principles and stuck to 'em. But this author has done it. He says the book is an adaptation of his doctoral thesis. That fits. The book reads like a well-done, fully footnoted college paper, not like a dramatic novel. It strives to identify key historical facts at the expense of the reader's interest. With a modest amount of effort, it could have been reworked as a compelling autobiographical novel bolstered by its remarkable display of features of midwestern life during the first half of the 20th Century.,  \n",
       "9998                                                                                                                                                                                                                                                                                                                                                                                                                                                                                                                                                                                                                                                                                         Don't buy: The box looked used and it is obviously not new. I have tried to contact them by email and no response. Don't buy from them!,  \n",
       "9999                                                                                                                                                                                                                                                                        Beautiful Pen and Fast Delivery.: The pen was shipped promptly. This is the classic Montblanc pen that everyone raves about. It is Black in color with Golden Trim. It holds it's own and I am thankful to my parents to gift this to me as a Graduation Present. Someday I plan on buying more of these pens from Amazon.The vendors at Amazon are amazing. I have been a long time shopper at Amazon, mostly pens and electronics. However this pen was gifted to me by my mom and she has nothing but good things to say. I on my part love this pen.,  \n",
       "\n",
       "[10000 rows x 2 columns]"
      ]
     },
     "execution_count": 9,
     "metadata": {},
     "output_type": "execute_result"
    }
   ],
   "source": [
    "corpus"
   ]
  },
  {
   "cell_type": "markdown",
   "metadata": {},
   "source": [
    "#### Displaying the top rows after the split"
   ]
  },
  {
   "cell_type": "code",
   "execution_count": 10,
   "metadata": {},
   "outputs": [
    {
     "data": {
      "text/html": [
       "<div>\n",
       "<style scoped>\n",
       "    .dataframe tbody tr th:only-of-type {\n",
       "        vertical-align: middle;\n",
       "    }\n",
       "\n",
       "    .dataframe tbody tr th {\n",
       "        vertical-align: top;\n",
       "    }\n",
       "\n",
       "    .dataframe thead th {\n",
       "        text-align: right;\n",
       "    }\n",
       "</style>\n",
       "<table border=\"1\" class=\"dataframe\">\n",
       "  <thead>\n",
       "    <tr style=\"text-align: right;\">\n",
       "      <th></th>\n",
       "      <th>label</th>\n",
       "      <th>text</th>\n",
       "    </tr>\n",
       "  </thead>\n",
       "  <tbody>\n",
       "    <tr>\n",
       "      <th>0</th>\n",
       "      <td>label__2</td>\n",
       "      <td>Stuning even for the non-gamer: This sound track was beautiful! It paints the senery in your mind so well I would recomend it even to people who hate video game music! I have played the game Chrono Cross but out of all of the games I have ever played it has the best music! It backs away from crude keyboarding and takes a fresher step with grate guitars and soulful orchestras. It would impress anyone who cares to listen! ^_^,</td>\n",
       "    </tr>\n",
       "    <tr>\n",
       "      <th>1</th>\n",
       "      <td>label__2</td>\n",
       "      <td>The best soundtrack ever to anything.: I'm reading a lot of reviews saying that this is the best 'game soundtrack' and I figured that I'd write a review to disagree a bit. This in my opinino is Yasunori Mitsuda's ultimate masterpiece. The music is timeless and I'm been listening to it for years now and its beauty simply refuses to fade.The price tag on this is pretty staggering I must say, but if you are going to buy any cd for this much money, this is the only one that I feel would be worth every penny.,</td>\n",
       "    </tr>\n",
       "    <tr>\n",
       "      <th>2</th>\n",
       "      <td>label__2</td>\n",
       "      <td>Amazing!: This soundtrack is my favorite music of all time, hands down. The intense sadness of \"Prisoners of Fate\" (which means all the more if you've played the game) and the hope in \"A Distant Promise\" and \"Girl who Stole the Star\" have been an important inspiration to me personally throughout my teen years. The higher energy tracks like \"Chrono Cross ~ Time's Scar~\", \"Time of the Dreamwatch\", and \"Chronomantique\" (indefinably remeniscent of Chrono Trigger) are all absolutely superb as well.This soundtrack is amazing music, probably the best of this composer's work (I haven't heard the Xenogears soundtrack, so I can't say for sure), and even if you've never played the game, it would be worth twice the price to buy it.I wish I could give it 6 stars.,</td>\n",
       "    </tr>\n",
       "    <tr>\n",
       "      <th>3</th>\n",
       "      <td>label__2</td>\n",
       "      <td>Excellent Soundtrack: I truly like this soundtrack and I enjoy video game music. I have played this game and most of the music on here I enjoy and it's truly relaxing and peaceful.On disk one. my favorites are Scars Of Time, Between Life and Death, Forest Of Illusion, Fortress of Ancient Dragons, Lost Fragment, and Drowned Valley.Disk Two: The Draggons, Galdorb - Home, Chronomantique, Prisoners of Fate, Gale, and my girlfriend likes ZelbessDisk Three: The best of the three. Garden Of God, Chronopolis, Fates, Jellyfish sea, Burning Orphange, Dragon's Prayer, Tower Of Stars, Dragon God, and Radical Dreamers - Unstealable Jewel.Overall, this is a excellent soundtrack and should be brought by those that like video game music.Xander Cross,</td>\n",
       "    </tr>\n",
       "    <tr>\n",
       "      <th>4</th>\n",
       "      <td>label__2</td>\n",
       "      <td>Remember, Pull Your Jaw Off The Floor After Hearing it: If you've played the game, you know how divine the music is! Every single song tells a story of the game, it's that good! The greatest songs are without a doubt, Chrono Cross: Time's Scar, Magical Dreamers: The Wind, The Stars, and the Sea and Radical Dreamers: Unstolen Jewel. (Translation varies) This music is perfect if you ask me, the best it can be. Yasunori Mitsuda just poured his heart on and wrote it down on paper.,</td>\n",
       "    </tr>\n",
       "    <tr>\n",
       "      <th>5</th>\n",
       "      <td>label__2</td>\n",
       "      <td>an absolute masterpiece: I am quite sure any of you actually taking the time to read this have played the game at least once, and heard at least a few of the tracks here. And whether you were aware of it or not, Mitsuda's music contributed greatly to the mood of every single minute of the whole game.Composed of 3 CDs and quite a few songs (I haven't an exact count), all of which are heart-rendering and impressively remarkable, this soundtrack is one I assure you you will not forget. It has everything for every listener -- from fast-paced and energetic (Dancing the Tokage or Termina Home), to slower and more haunting (Dragon God), to purely beautifully composed (Time's Scar), to even some fantastic vocals (Radical Dreamers).This is one of the best videogame soundtracks out there, and s...</td>\n",
       "    </tr>\n",
       "    <tr>\n",
       "      <th>6</th>\n",
       "      <td>label__1</td>\n",
       "      <td>Buyer beware: This is a self-published book, and if you want to know why--read a few paragraphs! Those 5 star reviews must have been written by Ms. Haddon's family and friends--or perhaps, by herself! I can't imagine anyone reading the whole thing--I spent an evening with the book and a friend and we were in hysterics reading bits and pieces of it to one another. It is most definitely bad enough to be entered into some kind of a \"worst book\" contest. I can't believe Amazon even sells this kind of thing. Maybe I can offer them my 8th grade term paper on \"To Kill a Mockingbird\"--a book I am quite sure Ms. Haddon never heard of. Anyway, unless you are in a mood to send a book to someone as a joke---stay far, far away from this one!,</td>\n",
       "    </tr>\n",
       "    <tr>\n",
       "      <th>7</th>\n",
       "      <td>label__2</td>\n",
       "      <td>Glorious story: I loved Whisper of the wicked saints. The story was amazing and I was pleasantly surprised at the changes in the book. I am not normaly someone who is into romance novels, but the world was raving about this book and so I bought it. I loved it !! This is a brilliant story because it is so true. This book was so wonderful that I have told all of my friends to read it. It is not a typical romance, it is so much more. Not reading this book is a crime, becuase you are missing out on a heart warming story.,</td>\n",
       "    </tr>\n",
       "    <tr>\n",
       "      <th>8</th>\n",
       "      <td>label__2</td>\n",
       "      <td>A FIVE STAR BOOK: I just finished reading Whisper of the Wicked saints. I fell in love with the caracters. I expected an average romance read, but instead I found one of my favorite books of all time. Just when I thought I could predict the outcome I was shocked ! The writting was so descriptive that my heart broke when Julia's did and I felt as if I was there with them instead of just a distant reader. If you are a lover of romance novels then this is a must read. Don't let the cover fool you this book is spectacular!,</td>\n",
       "    </tr>\n",
       "    <tr>\n",
       "      <th>9</th>\n",
       "      <td>label__2</td>\n",
       "      <td>Whispers of the Wicked Saints: This was a easy to read book that made me want to keep reading on and on, not easy to put down.It left me wanting to read the follow on, which I hope is coming soon. I used to read a lot but have gotten away from it. This book made me want to read again. Very enjoyable.,</td>\n",
       "    </tr>\n",
       "  </tbody>\n",
       "</table>\n",
       "</div>"
      ],
      "text/plain": [
       "      label  \\\n",
       "0  label__2   \n",
       "1  label__2   \n",
       "2  label__2   \n",
       "3  label__2   \n",
       "4  label__2   \n",
       "5  label__2   \n",
       "6  label__1   \n",
       "7  label__2   \n",
       "8  label__2   \n",
       "9  label__2   \n",
       "\n",
       "                                                                                                                                                                                                                                                                                                                                                                                                                                                                                                                                                                                                                                                                                                                                                                                                                              text  \n",
       "0                                                                                                                                                                                                                                                                                                                                                                                     Stuning even for the non-gamer: This sound track was beautiful! It paints the senery in your mind so well I would recomend it even to people who hate video game music! I have played the game Chrono Cross but out of all of the games I have ever played it has the best music! It backs away from crude keyboarding and takes a fresher step with grate guitars and soulful orchestras. It would impress anyone who cares to listen! ^_^,  \n",
       "1                                                                                                                                                                                                                                                                                                   The best soundtrack ever to anything.: I'm reading a lot of reviews saying that this is the best 'game soundtrack' and I figured that I'd write a review to disagree a bit. This in my opinino is Yasunori Mitsuda's ultimate masterpiece. The music is timeless and I'm been listening to it for years now and its beauty simply refuses to fade.The price tag on this is pretty staggering I must say, but if you are going to buy any cd for this much money, this is the only one that I feel would be worth every penny.,  \n",
       "2                                        Amazing!: This soundtrack is my favorite music of all time, hands down. The intense sadness of \"Prisoners of Fate\" (which means all the more if you've played the game) and the hope in \"A Distant Promise\" and \"Girl who Stole the Star\" have been an important inspiration to me personally throughout my teen years. The higher energy tracks like \"Chrono Cross ~ Time's Scar~\", \"Time of the Dreamwatch\", and \"Chronomantique\" (indefinably remeniscent of Chrono Trigger) are all absolutely superb as well.This soundtrack is amazing music, probably the best of this composer's work (I haven't heard the Xenogears soundtrack, so I can't say for sure), and even if you've never played the game, it would be worth twice the price to buy it.I wish I could give it 6 stars.,  \n",
       "3                                                         Excellent Soundtrack: I truly like this soundtrack and I enjoy video game music. I have played this game and most of the music on here I enjoy and it's truly relaxing and peaceful.On disk one. my favorites are Scars Of Time, Between Life and Death, Forest Of Illusion, Fortress of Ancient Dragons, Lost Fragment, and Drowned Valley.Disk Two: The Draggons, Galdorb - Home, Chronomantique, Prisoners of Fate, Gale, and my girlfriend likes ZelbessDisk Three: The best of the three. Garden Of God, Chronopolis, Fates, Jellyfish sea, Burning Orphange, Dragon's Prayer, Tower Of Stars, Dragon God, and Radical Dreamers - Unstealable Jewel.Overall, this is a excellent soundtrack and should be brought by those that like video game music.Xander Cross,  \n",
       "4                                                                                                                                                                                                                                                                                                                               Remember, Pull Your Jaw Off The Floor After Hearing it: If you've played the game, you know how divine the music is! Every single song tells a story of the game, it's that good! The greatest songs are without a doubt, Chrono Cross: Time's Scar, Magical Dreamers: The Wind, The Stars, and the Sea and Radical Dreamers: Unstolen Jewel. (Translation varies) This music is perfect if you ask me, the best it can be. Yasunori Mitsuda just poured his heart on and wrote it down on paper.,  \n",
       "5   an absolute masterpiece: I am quite sure any of you actually taking the time to read this have played the game at least once, and heard at least a few of the tracks here. And whether you were aware of it or not, Mitsuda's music contributed greatly to the mood of every single minute of the whole game.Composed of 3 CDs and quite a few songs (I haven't an exact count), all of which are heart-rendering and impressively remarkable, this soundtrack is one I assure you you will not forget. It has everything for every listener -- from fast-paced and energetic (Dancing the Tokage or Termina Home), to slower and more haunting (Dragon God), to purely beautifully composed (Time's Scar), to even some fantastic vocals (Radical Dreamers).This is one of the best videogame soundtracks out there, and s...  \n",
       "6                                                              Buyer beware: This is a self-published book, and if you want to know why--read a few paragraphs! Those 5 star reviews must have been written by Ms. Haddon's family and friends--or perhaps, by herself! I can't imagine anyone reading the whole thing--I spent an evening with the book and a friend and we were in hysterics reading bits and pieces of it to one another. It is most definitely bad enough to be entered into some kind of a \"worst book\" contest. I can't believe Amazon even sells this kind of thing. Maybe I can offer them my 8th grade term paper on \"To Kill a Mockingbird\"--a book I am quite sure Ms. Haddon never heard of. Anyway, unless you are in a mood to send a book to someone as a joke---stay far, far away from this one!,  \n",
       "7                                                                                                                                                                                                                                                                                      Glorious story: I loved Whisper of the wicked saints. The story was amazing and I was pleasantly surprised at the changes in the book. I am not normaly someone who is into romance novels, but the world was raving about this book and so I bought it. I loved it !! This is a brilliant story because it is so true. This book was so wonderful that I have told all of my friends to read it. It is not a typical romance, it is so much more. Not reading this book is a crime, becuase you are missing out on a heart warming story.,  \n",
       "8                                                                                                                                                                                                                                                                                    A FIVE STAR BOOK: I just finished reading Whisper of the Wicked saints. I fell in love with the caracters. I expected an average romance read, but instead I found one of my favorite books of all time. Just when I thought I could predict the outcome I was shocked ! The writting was so descriptive that my heart broke when Julia's did and I felt as if I was there with them instead of just a distant reader. If you are a lover of romance novels then this is a must read. Don't let the cover fool you this book is spectacular!,  \n",
       "9                                                                                                                                                                                                                                                                                                                                                                                                                                                                                                                   Whispers of the Wicked Saints: This was a easy to read book that made me want to keep reading on and on, not easy to put down.It left me wanting to read the follow on, which I hope is coming soon. I used to read a lot but have gotten away from it. This book made me want to read again. Very enjoyable.,  "
      ]
     },
     "execution_count": 10,
     "metadata": {},
     "output_type": "execute_result"
    }
   ],
   "source": [
    "corpus.head(10)"
   ]
  },
  {
   "cell_type": "markdown",
   "metadata": {},
   "source": [
    "#### Check the counts in label 1 & 2"
   ]
  },
  {
   "cell_type": "code",
   "execution_count": 11,
   "metadata": {},
   "outputs": [
    {
     "data": {
      "text/plain": [
       "label__1    5097\n",
       "label__2    4903\n",
       "Name: label, dtype: int64"
      ]
     },
     "execution_count": 11,
     "metadata": {},
     "output_type": "execute_result"
    }
   ],
   "source": [
    "corpus['label'].value_counts()"
   ]
  },
  {
   "cell_type": "markdown",
   "metadata": {},
   "source": [
    "#### Check the distribution of the two classes"
   ]
  },
  {
   "cell_type": "code",
   "execution_count": 12,
   "metadata": {},
   "outputs": [
    {
     "data": {
      "text/plain": [
       "label__1    50.97\n",
       "label__2    49.03\n",
       "Name: label, dtype: float64"
      ]
     },
     "execution_count": 12,
     "metadata": {},
     "output_type": "execute_result"
    }
   ],
   "source": [
    "corpus['label'].value_counts(normalize=True)*100"
   ]
  },
  {
   "cell_type": "markdown",
   "metadata": {},
   "source": [
    "#### Check for null values"
   ]
  },
  {
   "cell_type": "code",
   "execution_count": 13,
   "metadata": {},
   "outputs": [
    {
     "data": {
      "text/plain": [
       "label    0\n",
       "text     0\n",
       "dtype: int64"
      ]
     },
     "execution_count": 13,
     "metadata": {},
     "output_type": "execute_result"
    }
   ],
   "source": [
    "corpus.isnull().sum()"
   ]
  },
  {
   "cell_type": "markdown",
   "metadata": {},
   "source": [
    "#### Observation: There are no null values in the data set"
   ]
  },
  {
   "cell_type": "code",
   "execution_count": 14,
   "metadata": {},
   "outputs": [
    {
     "data": {
      "text/plain": [
       "pandas.core.frame.DataFrame"
      ]
     },
     "execution_count": 14,
     "metadata": {},
     "output_type": "execute_result"
    }
   ],
   "source": [
    "type(corpus)"
   ]
  },
  {
   "cell_type": "code",
   "execution_count": 15,
   "metadata": {},
   "outputs": [
    {
     "data": {
      "text/plain": [
       "label    object\n",
       "text     object\n",
       "dtype: object"
      ]
     },
     "execution_count": 15,
     "metadata": {},
     "output_type": "execute_result"
    }
   ],
   "source": [
    "corpus.dtypes"
   ]
  },
  {
   "cell_type": "code",
   "execution_count": 16,
   "metadata": {},
   "outputs": [],
   "source": [
    "corpus['text'] = corpus['text'].astype(str)"
   ]
  },
  {
   "cell_type": "code",
   "execution_count": 17,
   "metadata": {},
   "outputs": [
    {
     "data": {
      "text/plain": [
       "label    object\n",
       "text     object\n",
       "dtype: object"
      ]
     },
     "execution_count": 17,
     "metadata": {},
     "output_type": "execute_result"
    }
   ],
   "source": [
    "corpus.dtypes"
   ]
  },
  {
   "cell_type": "markdown",
   "metadata": {},
   "source": [
    "### Preprocessing"
   ]
  },
  {
   "cell_type": "code",
   "execution_count": 18,
   "metadata": {},
   "outputs": [],
   "source": [
    "# Step - a : Remove blank rows if any\n",
    "# Corpus['text'].dropna(inplace=True) \n",
    "\n",
    "# Step - b : Change all the text to lower case. This is required as python interprets 'data' and 'DATA' differently\n",
    "corpus['text'] = [token.lower() for token in corpus['text']]\n",
    "\n",
    "# Step - c : Tokenization : In this step, each entry in the corpus will be broken into set of words\n",
    "corpus['text'] = [word_tokenize(token) for token in corpus['text']]\n",
    "\n",
    "# Step - d : Remove Stop words, Non-Numeric and perfom Word Stemming/Lemmatization.\n",
    "\n",
    "# WordNet is the lexical database i.e. dictionary for the English language, specifically designed for natural language processing.\n",
    "# The WordNet is a part of Python's Natural Language Toolkit. It is a large word database of English Nouns, Adjectives, Adverbs and Verbs.\n",
    "\n",
    "# WordNetLemmatizer requires Pos tags to understand if the word is noun or verb or adjective etc. By default it is set to 'Noun'\n",
    "\n",
    "tag_map = defaultdict(lambda : wn.NOUN)\n",
    "\n",
    "tag_map['J'] = wn.ADJ\n",
    "tag_map['V'] = wn.VERB\n",
    "tag_map['R'] = wn.ADV\n",
    "\n",
    "# Initializing WordNetLemmatizer()\n",
    "word_Lemmatized = WordNetLemmatizer()\n",
    "    \n",
    "for index, entry in enumerate(corpus['text']):\n",
    "    \n",
    "    # Declaring an Empty List to store the words that follow the rules for this step\n",
    "    Final_words = []\n",
    "       \n",
    "    # pos_tag function below will provide the 'tag' i.e. if the word is Noun(N) or Verb(V) or something else.\n",
    "    \n",
    "    for word, tag in pos_tag(entry):\n",
    "        # Below condition is to check for Stop words and consider only alphabets\n",
    "        if word not in stopwords.words('english') and word.isalpha():\n",
    "            word_Final = word_Lemmatized.lemmatize(word,tag_map[tag[0]])\n",
    "            Final_words.append(word_Final)\n",
    "            \n",
    "    # The final processed set of words for each iteration will be stored in 'text_final'\n",
    "    corpus.loc[index,'text_final'] = str(Final_words)\n",
    "    "
   ]
  },
  {
   "cell_type": "code",
   "execution_count": 19,
   "metadata": {},
   "outputs": [
    {
     "name": "stdout",
     "output_type": "stream",
     "text": [
      "JJ: adjective or numeral, ordinal\n",
      "    third ill-mannered pre-war regrettable oiled calamitous first separable\n",
      "    ectoplasmic battery-powered participatory fourth still-to-be-named\n",
      "    multilingual multi-disciplinary ...\n",
      "NN: noun, common, singular or mass\n",
      "    common-carrier cabbage knuckle-duster Casino afghan shed thermostat\n",
      "    investment slide humour falloff slick wind hyena override subhumanity\n",
      "    machinist ...\n",
      "RB: adverb\n",
      "    occasionally unabatingly maddeningly adventurously professedly\n",
      "    stirringly prominently technologically magisterially predominately\n",
      "    swiftly fiscally pitilessly ...\n",
      "VB: verb, base form\n",
      "    ask assemble assess assign assume atone attention avoid bake balkanize\n",
      "    bank begin behold believe bend benefit bevel beware bless boil bomb\n",
      "    boost brace break bring broil brush build ...\n"
     ]
    }
   ],
   "source": [
    "nltk.help.upenn_tagset(\"JJ$\")\n",
    "nltk.help.upenn_tagset(\"NN$\")\n",
    "nltk.help.upenn_tagset(\"RB\")\n",
    "nltk.help.upenn_tagset(\"VB\")"
   ]
  },
  {
   "cell_type": "markdown",
   "metadata": {},
   "source": [
    "#### Display top rows after preprocessing"
   ]
  },
  {
   "cell_type": "code",
   "execution_count": 20,
   "metadata": {},
   "outputs": [
    {
     "data": {
      "text/html": [
       "<div>\n",
       "<style scoped>\n",
       "    .dataframe tbody tr th:only-of-type {\n",
       "        vertical-align: middle;\n",
       "    }\n",
       "\n",
       "    .dataframe tbody tr th {\n",
       "        vertical-align: top;\n",
       "    }\n",
       "\n",
       "    .dataframe thead th {\n",
       "        text-align: right;\n",
       "    }\n",
       "</style>\n",
       "<table border=\"1\" class=\"dataframe\">\n",
       "  <thead>\n",
       "    <tr style=\"text-align: right;\">\n",
       "      <th></th>\n",
       "      <th>label</th>\n",
       "      <th>text</th>\n",
       "      <th>text_final</th>\n",
       "    </tr>\n",
       "  </thead>\n",
       "  <tbody>\n",
       "    <tr>\n",
       "      <th>0</th>\n",
       "      <td>label__2</td>\n",
       "      <td>[stuning, even, for, the, non-gamer, :, this, sound, track, was, beautiful, !, it, paints, the, senery, in, your, mind, so, well, i, would, recomend, it, even, to, people, who, hate, video, game, music, !, i, have, played, the, game, chrono, cross, but, out, of, all, of, the, games, i, have, ever, played, it, has, the, best, music, !, it, backs, away, from, crude, keyboarding, and, takes, a, fresher, step, with, grate, guitars, and, soulful, orchestras, ., it, would, impress, anyone, who, cares, to, listen, !, ^_^, ,]</td>\n",
       "      <td>['stun', 'even', 'sound', 'track', 'beautiful', 'paint', 'senery', 'mind', 'well', 'would', 'recomend', 'even', 'people', 'hate', 'video', 'game', 'music', 'play', 'game', 'chrono', 'cross', 'game', 'ever', 'play', 'best', 'music', 'back', 'away', 'crude', 'keyboarding', 'take', 'fresh', 'step', 'grate', 'guitar', 'soulful', 'orchestra', 'would', 'impress', 'anyone', 'care', 'listen']</td>\n",
       "    </tr>\n",
       "    <tr>\n",
       "      <th>1</th>\n",
       "      <td>label__2</td>\n",
       "      <td>[the, best, soundtrack, ever, to, anything, ., :, i, 'm, reading, a, lot, of, reviews, saying, that, this, is, the, best, 'game, soundtrack, ', and, i, figured, that, i, 'd, write, a, review, to, disagree, a, bit, ., this, in, my, opinino, is, yasunori, mitsuda, 's, ultimate, masterpiece, ., the, music, is, timeless, and, i, 'm, been, listening, to, it, for, years, now, and, its, beauty, simply, refuses, to, fade.the, price, tag, on, this, is, pretty, staggering, i, must, say, ,, but, if, you, are, going, to, buy, any, cd, for, this, much, money, ,, this, is, the, only, one, ...]</td>\n",
       "      <td>['best', 'soundtrack', 'ever', 'anything', 'read', 'lot', 'review', 'say', 'best', 'soundtrack', 'figure', 'write', 'review', 'disagree', 'bit', 'opinino', 'yasunori', 'mitsuda', 'ultimate', 'masterpiece', 'music', 'timeless', 'listen', 'year', 'beauty', 'simply', 'refuse', 'price', 'tag', 'pretty', 'stagger', 'must', 'say', 'go', 'buy', 'cd', 'much', 'money', 'one', 'feel', 'would', 'worth', 'every']</td>\n",
       "    </tr>\n",
       "    <tr>\n",
       "      <th>2</th>\n",
       "      <td>label__2</td>\n",
       "      <td>[amazing, !, :, this, soundtrack, is, my, favorite, music, of, all, time, ,, hands, down, ., the, intense, sadness, of, ``, prisoners, of, fate, '', (, which, means, all, the, more, if, you, 've, played, the, game, ), and, the, hope, in, ``, a, distant, promise, '', and, ``, girl, who, stole, the, star, '', have, been, an, important, inspiration, to, me, personally, throughout, my, teen, years, ., the, higher, energy, tracks, like, ``, chrono, cross, ~, time, 's, scar~, '', ,, ``, time, of, the, dreamwatch, '', ,, and, ``, chronomantique, '', (, indefinably, remeniscent, of, chrono, trigger, ), ...]</td>\n",
       "      <td>['amaze', 'soundtrack', 'favorite', 'music', 'time', 'hand', 'intense', 'sadness', 'prisoner', 'fate', 'mean', 'play', 'game', 'hope', 'distant', 'promise', 'girl', 'steal', 'star', 'important', 'inspiration', 'personally', 'throughout', 'teen', 'year', 'high', 'energy', 'track', 'like', 'chrono', 'cross', 'time', 'time', 'dreamwatch', 'chronomantique', 'indefinably', 'remeniscent', 'chrono', 'trigger', 'absolutely', 'superb', 'soundtrack', 'amazing', 'music', 'probably', 'best', 'composer', 'work', 'hear', 'xenogears', 'soundtrack', 'ca', 'say', 'sure', 'even', 'never', 'play', 'game', 'would', 'worth', 'twice', 'price', 'buy', 'wish', 'could', 'give']</td>\n",
       "    </tr>\n",
       "    <tr>\n",
       "      <th>3</th>\n",
       "      <td>label__2</td>\n",
       "      <td>[excellent, soundtrack, :, i, truly, like, this, soundtrack, and, i, enjoy, video, game, music, ., i, have, played, this, game, and, most, of, the, music, on, here, i, enjoy, and, it, 's, truly, relaxing, and, peaceful.on, disk, one, ., my, favorites, are, scars, of, time, ,, between, life, and, death, ,, forest, of, illusion, ,, fortress, of, ancient, dragons, ,, lost, fragment, ,, and, drowned, valley.disk, two, :, the, draggons, ,, galdorb, -, home, ,, chronomantique, ,, prisoners, of, fate, ,, gale, ,, and, my, girlfriend, likes, zelbessdisk, three, :, the, best, of, the, three, ., garden, of, god, ,, ...]</td>\n",
       "      <td>['excellent', 'soundtrack', 'truly', 'like', 'soundtrack', 'enjoy', 'video', 'game', 'music', 'play', 'game', 'music', 'enjoy', 'truly', 'relaxing', 'disk', 'one', 'favorite', 'scar', 'time', 'life', 'death', 'forest', 'illusion', 'fortress', 'ancient', 'dragon', 'lose', 'fragment', 'drown', 'two', 'draggons', 'galdorb', 'home', 'chronomantique', 'prisoner', 'fate', 'gale', 'girlfriend', 'like', 'zelbessdisk', 'three', 'best', 'three', 'garden', 'god', 'chronopolis', 'fate', 'jellyfish', 'sea', 'burn', 'orphange', 'dragon', 'prayer', 'tower', 'star', 'dragon', 'god', 'radical', 'dreamer', 'unstealable', 'excellent', 'soundtrack', 'bring', 'like', 'video', 'game', 'cross']</td>\n",
       "    </tr>\n",
       "    <tr>\n",
       "      <th>4</th>\n",
       "      <td>label__2</td>\n",
       "      <td>[remember, ,, pull, your, jaw, off, the, floor, after, hearing, it, :, if, you, 've, played, the, game, ,, you, know, how, divine, the, music, is, !, every, single, song, tells, a, story, of, the, game, ,, it, 's, that, good, !, the, greatest, songs, are, without, a, doubt, ,, chrono, cross, :, time, 's, scar, ,, magical, dreamers, :, the, wind, ,, the, stars, ,, and, the, sea, and, radical, dreamers, :, unstolen, jewel, ., (, translation, varies, ), this, music, is, perfect, if, you, ask, me, ,, the, best, it, can, be, ., yasunori, mitsuda, just, poured, his, ...]</td>\n",
       "      <td>['remember', 'pull', 'jaw', 'floor', 'hear', 'play', 'game', 'know', 'divine', 'music', 'every', 'single', 'song', 'tell', 'story', 'game', 'good', 'great', 'song', 'without', 'doubt', 'chrono', 'cross', 'time', 'scar', 'magical', 'dreamer', 'wind', 'star', 'sea', 'radical', 'dreamer', 'unstolen', 'jewel', 'translation', 'varies', 'music', 'perfect', 'ask', 'best', 'yasunori', 'mitsuda', 'pour', 'heart', 'write']</td>\n",
       "    </tr>\n",
       "  </tbody>\n",
       "</table>\n",
       "</div>"
      ],
      "text/plain": [
       "      label  \\\n",
       "0  label__2   \n",
       "1  label__2   \n",
       "2  label__2   \n",
       "3  label__2   \n",
       "4  label__2   \n",
       "\n",
       "                                                                                                                                                                                                                                                                                                                                                                                                                                                                                                                                                                                                                                        text  \\\n",
       "0                                                                                                [stuning, even, for, the, non-gamer, :, this, sound, track, was, beautiful, !, it, paints, the, senery, in, your, mind, so, well, i, would, recomend, it, even, to, people, who, hate, video, game, music, !, i, have, played, the, game, chrono, cross, but, out, of, all, of, the, games, i, have, ever, played, it, has, the, best, music, !, it, backs, away, from, crude, keyboarding, and, takes, a, fresher, step, with, grate, guitars, and, soulful, orchestras, ., it, would, impress, anyone, who, cares, to, listen, !, ^_^, ,]   \n",
       "1                                 [the, best, soundtrack, ever, to, anything, ., :, i, 'm, reading, a, lot, of, reviews, saying, that, this, is, the, best, 'game, soundtrack, ', and, i, figured, that, i, 'd, write, a, review, to, disagree, a, bit, ., this, in, my, opinino, is, yasunori, mitsuda, 's, ultimate, masterpiece, ., the, music, is, timeless, and, i, 'm, been, listening, to, it, for, years, now, and, its, beauty, simply, refuses, to, fade.the, price, tag, on, this, is, pretty, staggering, i, must, say, ,, but, if, you, are, going, to, buy, any, cd, for, this, much, money, ,, this, is, the, only, one, ...]   \n",
       "2             [amazing, !, :, this, soundtrack, is, my, favorite, music, of, all, time, ,, hands, down, ., the, intense, sadness, of, ``, prisoners, of, fate, '', (, which, means, all, the, more, if, you, 've, played, the, game, ), and, the, hope, in, ``, a, distant, promise, '', and, ``, girl, who, stole, the, star, '', have, been, an, important, inspiration, to, me, personally, throughout, my, teen, years, ., the, higher, energy, tracks, like, ``, chrono, cross, ~, time, 's, scar~, '', ,, ``, time, of, the, dreamwatch, '', ,, and, ``, chronomantique, '', (, indefinably, remeniscent, of, chrono, trigger, ), ...]   \n",
       "3  [excellent, soundtrack, :, i, truly, like, this, soundtrack, and, i, enjoy, video, game, music, ., i, have, played, this, game, and, most, of, the, music, on, here, i, enjoy, and, it, 's, truly, relaxing, and, peaceful.on, disk, one, ., my, favorites, are, scars, of, time, ,, between, life, and, death, ,, forest, of, illusion, ,, fortress, of, ancient, dragons, ,, lost, fragment, ,, and, drowned, valley.disk, two, :, the, draggons, ,, galdorb, -, home, ,, chronomantique, ,, prisoners, of, fate, ,, gale, ,, and, my, girlfriend, likes, zelbessdisk, three, :, the, best, of, the, three, ., garden, of, god, ,, ...]   \n",
       "4                                                [remember, ,, pull, your, jaw, off, the, floor, after, hearing, it, :, if, you, 've, played, the, game, ,, you, know, how, divine, the, music, is, !, every, single, song, tells, a, story, of, the, game, ,, it, 's, that, good, !, the, greatest, songs, are, without, a, doubt, ,, chrono, cross, :, time, 's, scar, ,, magical, dreamers, :, the, wind, ,, the, stars, ,, and, the, sea, and, radical, dreamers, :, unstolen, jewel, ., (, translation, varies, ), this, music, is, perfect, if, you, ask, me, ,, the, best, it, can, be, ., yasunori, mitsuda, just, poured, his, ...]   \n",
       "\n",
       "                                                                                                                                                                                                                                                                                                                                                                                                                                                                                                                                                                                                                                                                                                 text_final  \n",
       "0                                                                                                                                                                                                                                                                                                       ['stun', 'even', 'sound', 'track', 'beautiful', 'paint', 'senery', 'mind', 'well', 'would', 'recomend', 'even', 'people', 'hate', 'video', 'game', 'music', 'play', 'game', 'chrono', 'cross', 'game', 'ever', 'play', 'best', 'music', 'back', 'away', 'crude', 'keyboarding', 'take', 'fresh', 'step', 'grate', 'guitar', 'soulful', 'orchestra', 'would', 'impress', 'anyone', 'care', 'listen']  \n",
       "1                                                                                                                                                                                                                                                                                      ['best', 'soundtrack', 'ever', 'anything', 'read', 'lot', 'review', 'say', 'best', 'soundtrack', 'figure', 'write', 'review', 'disagree', 'bit', 'opinino', 'yasunori', 'mitsuda', 'ultimate', 'masterpiece', 'music', 'timeless', 'listen', 'year', 'beauty', 'simply', 'refuse', 'price', 'tag', 'pretty', 'stagger', 'must', 'say', 'go', 'buy', 'cd', 'much', 'money', 'one', 'feel', 'would', 'worth', 'every']  \n",
       "2                     ['amaze', 'soundtrack', 'favorite', 'music', 'time', 'hand', 'intense', 'sadness', 'prisoner', 'fate', 'mean', 'play', 'game', 'hope', 'distant', 'promise', 'girl', 'steal', 'star', 'important', 'inspiration', 'personally', 'throughout', 'teen', 'year', 'high', 'energy', 'track', 'like', 'chrono', 'cross', 'time', 'time', 'dreamwatch', 'chronomantique', 'indefinably', 'remeniscent', 'chrono', 'trigger', 'absolutely', 'superb', 'soundtrack', 'amazing', 'music', 'probably', 'best', 'composer', 'work', 'hear', 'xenogears', 'soundtrack', 'ca', 'say', 'sure', 'even', 'never', 'play', 'game', 'would', 'worth', 'twice', 'price', 'buy', 'wish', 'could', 'give']  \n",
       "3  ['excellent', 'soundtrack', 'truly', 'like', 'soundtrack', 'enjoy', 'video', 'game', 'music', 'play', 'game', 'music', 'enjoy', 'truly', 'relaxing', 'disk', 'one', 'favorite', 'scar', 'time', 'life', 'death', 'forest', 'illusion', 'fortress', 'ancient', 'dragon', 'lose', 'fragment', 'drown', 'two', 'draggons', 'galdorb', 'home', 'chronomantique', 'prisoner', 'fate', 'gale', 'girlfriend', 'like', 'zelbessdisk', 'three', 'best', 'three', 'garden', 'god', 'chronopolis', 'fate', 'jellyfish', 'sea', 'burn', 'orphange', 'dragon', 'prayer', 'tower', 'star', 'dragon', 'god', 'radical', 'dreamer', 'unstealable', 'excellent', 'soundtrack', 'bring', 'like', 'video', 'game', 'cross']  \n",
       "4                                                                                                                                                                                                                                                                          ['remember', 'pull', 'jaw', 'floor', 'hear', 'play', 'game', 'know', 'divine', 'music', 'every', 'single', 'song', 'tell', 'story', 'game', 'good', 'great', 'song', 'without', 'doubt', 'chrono', 'cross', 'time', 'scar', 'magical', 'dreamer', 'wind', 'star', 'sea', 'radical', 'dreamer', 'unstolen', 'jewel', 'translation', 'varies', 'music', 'perfect', 'ask', 'best', 'yasunori', 'mitsuda', 'pour', 'heart', 'write']  "
      ]
     },
     "execution_count": 20,
     "metadata": {},
     "output_type": "execute_result"
    }
   ],
   "source": [
    "corpus.head()"
   ]
  },
  {
   "cell_type": "code",
   "execution_count": 21,
   "metadata": {},
   "outputs": [
    {
     "data": {
      "text/plain": [
       "label         object\n",
       "text          object\n",
       "text_final    object\n",
       "dtype: object"
      ]
     },
     "execution_count": 21,
     "metadata": {},
     "output_type": "execute_result"
    }
   ],
   "source": [
    "corpus.dtypes"
   ]
  },
  {
   "cell_type": "markdown",
   "metadata": {},
   "source": [
    "#### Converting to the appropriate datatypes"
   ]
  },
  {
   "cell_type": "code",
   "execution_count": 22,
   "metadata": {},
   "outputs": [],
   "source": [
    "corpus['label']=corpus['label'].astype(\"category\")"
   ]
  },
  {
   "cell_type": "code",
   "execution_count": 23,
   "metadata": {},
   "outputs": [
    {
     "data": {
      "text/plain": [
       "label         category\n",
       "text            object\n",
       "text_final      object\n",
       "dtype: object"
      ]
     },
     "execution_count": 23,
     "metadata": {},
     "output_type": "execute_result"
    }
   ],
   "source": [
    "corpus.dtypes"
   ]
  },
  {
   "cell_type": "markdown",
   "metadata": {},
   "source": [
    "#### Performing train test split on the data"
   ]
  },
  {
   "cell_type": "code",
   "execution_count": 24,
   "metadata": {},
   "outputs": [],
   "source": [
    "train_X, test_X, train_y, test_y = train_test_split(corpus['text_final'],corpus['label'],test_size=0.3,random_state=123)"
   ]
  },
  {
   "cell_type": "markdown",
   "metadata": {},
   "source": [
    "### Calculation of TF-IDF "
   ]
  },
  {
   "cell_type": "markdown",
   "metadata": {},
   "source": [
    "#### Term Frequency: This summarizes how often a given word appears within a document"
   ]
  },
  {
   "cell_type": "markdown",
   "metadata": {},
   "source": [
    "#### Inverse Document Frequency: This down scales words that appear a lot across documents"
   ]
  },
  {
   "cell_type": "code",
   "execution_count": 25,
   "metadata": {},
   "outputs": [],
   "source": [
    "# Extending stop words list\n",
    "stop_words = stopwords.words('english')\n",
    "stop_words.extend(['aa','aah','fa','la','!'])\n",
    "\n",
    "Tfidf_vect = TfidfVectorizer(stop_words=stop_words,max_df=0.8)\n",
    "Tfidf_vect.fit(corpus['text_final'])\n",
    "train_X_Tfidf = Tfidf_vect.transform(train_X)\n",
    "test_X_Tfidf = Tfidf_vect.transform(test_X)"
   ]
  },
  {
   "cell_type": "code",
   "execution_count": 26,
   "metadata": {},
   "outputs": [
    {
     "name": "stdout",
     "output_type": "stream",
     "text": [
      "(7000, 24438)\n"
     ]
    }
   ],
   "source": [
    "print(train_X_Tfidf.shape)"
   ]
  },
  {
   "cell_type": "code",
   "execution_count": 27,
   "metadata": {},
   "outputs": [
    {
     "name": "stdout",
     "output_type": "stream",
     "text": [
      "  (0, 23713)\t0.41239516205935073\n",
      "  (0, 23066)\t0.18917779435460197\n",
      "  (0, 21491)\t0.29638207409014095\n",
      "  (0, 20059)\t0.19787279004330352\n",
      "  (0, 19669)\t0.19486814641134143\n",
      "  (0, 19205)\t0.17404084006147086\n",
      "  (0, 19099)\t0.16806843626835258\n",
      "  (0, 15087)\t0.1612751896124468\n",
      "  (0, 14447)\t0.21295150406979932\n",
      "  (0, 12307)\t0.14669747852299314\n",
      "  (0, 11432)\t0.146806447402883\n",
      "  (0, 10516)\t0.14605122189619887\n",
      "  (0, 9381)\t0.0824529658456\n",
      "  (0, 8711)\t0.20619758102967536\n",
      "  (0, 6921)\t0.23810119091317825\n",
      "  (0, 5250)\t0.12565416121586073\n",
      "  (0, 4670)\t0.5595327139238399\n"
     ]
    }
   ],
   "source": [
    "print(train_X_Tfidf[0])"
   ]
  },
  {
   "cell_type": "code",
   "execution_count": 28,
   "metadata": {},
   "outputs": [
    {
     "name": "stdout",
     "output_type": "stream",
     "text": [
      "(7000,)\n",
      "(3000,)\n",
      "(7000,)\n",
      "(3000,)\n"
     ]
    }
   ],
   "source": [
    "print(train_X.shape)\n",
    "print(test_X.shape)\n",
    "print(train_y.shape)\n",
    "print(test_y.shape)"
   ]
  },
  {
   "cell_type": "code",
   "execution_count": 29,
   "metadata": {},
   "outputs": [
    {
     "name": "stdout",
     "output_type": "stream",
     "text": [
      "7925                                                                                                                                                                                                                                                                                                                                                                                                                         ['great', 'movie', 'great', 'movie', 'really', 'make', 'think', 'base', 'theory', 'every', 'second', 'every', 'day', 'determins', 'ultimate', 'fate', 'even', 'one', 'second', 'different', 'could', 'change', 'whole', 'life', 'twist', 'turn', 'movie', 'lola', 'race', 'protect', 'destiny', 'lover', 'run', 'lola', 'run']\n",
      "309     ['novel', 'enjoyable', 'restaurant', 'antoine', 'ever', 'eat', 'wonderful', 'restaurant', 'antoine', 'french', 'quarter', 'new', 'orleans', 'many', 'theme', 'mardi', 'gras', 'private', 'room', 'definitely', 'enjoy', 'book', 'even', 'eat', 'antoine', 'interested', 'new', 'orleans', 'society', 'century', 'find', 'delightful', 'addition', 'home', 'late', 'author', 'france', 'parkinson', 'keyes', 'open', 'public', 'new', 'orleans', 'actually', 'call', 'beauregard', 'keyes', 'house', 'confederate', 'general', 'beauregard', 'stay', 'france', 'parkinson', 'keyes', 'author', 'also', 'write', 'novel', 'house', 'call', 'madame', 'castel', 'lodger', 'fill', 'interesting', 'history', 'general', 'phyllis', 'zimbler', 'miller']\n",
      "Name: text_final, dtype: object\n",
      "7925    label__2\n",
      "309     label__2\n",
      "Name: label, dtype: category\n",
      "Categories (2, object): [label__1, label__2]\n",
      "\n",
      "\n",
      "9505    ['disappointment', 'good', 'atlas', 'map', 'small', 'ca', 'find', 'many', 'city', 'let', 'alone', 'small', 'town', 'europe', 'least', 'southeastern', 'europe', 'waste']\n",
      "332                                               ['god', 'zoo', 'wonderful', 'video', 'comical', 'love', 'kid', 'also', 'teach', 'good', 'biblical', 'truth', 'good', 'gospel']\n",
      "Name: text_final, dtype: object\n",
      "9505    label__1\n",
      "332     label__2\n",
      "Name: label, dtype: category\n",
      "Categories (2, object): [label__1, label__2]\n"
     ]
    }
   ],
   "source": [
    "print(train_X[2:4])\n",
    "print(train_y[2:4])\n",
    "print(\"\\n\")\n",
    "print(test_X[2:4])\n",
    "print(test_y[2:4])"
   ]
  },
  {
   "cell_type": "code",
   "execution_count": 30,
   "metadata": {},
   "outputs": [
    {
     "data": {
      "text/plain": [
       "3144                                                                                                                                                                                                                                                                                                                                                                                                                                                                                                                                                       ['useless', 'sell', 'item', 'learn', 'open', 'corresponding', 'web', 'site', 'necessary', 'emarker', 'function', 'sony', 'terminate', 'corresponding', 'web', 'service', 'day', 'great', 'idea']\n",
       "9939                                      ['veritable', 'masterpiece', 'neil', 'marshal', 'descent', 'great', 'outline', 'girlfriend', 'go', 'cave', 'find', 'alone', 'follow', 'fast', 'paced', 'adrenaline', 'fuel', 'thrill', 'ride', 'grab', 'throat', 'wo', 'let', 'many', 'scary', 'moment', 'nice', 'buildup', 'suspense', 'creature', 'reveal', 'acting', 'good', 'character', 'well', 'develop', 'early', 'stage', 'film', 'caving', 'scene', 'may', 'breath', 'one', 'get', 'scared', 'easy', 'may', 'want', 'watch', 'movie', 'someone', 'might', 'get', 'like', 'twist', 'end', 'set', 'nicely', 'saw', 'britsh', 'version', 'end', 'apparrently', 'differs', 'north', 'ca', 'wait', 'check', 'north', 'american', 'version', 'check', 'movie']\n",
       "7925                                                                                                                                                                                                                                                                                                                                                                                                                         ['great', 'movie', 'great', 'movie', 'really', 'make', 'think', 'base', 'theory', 'every', 'second', 'every', 'day', 'determins', 'ultimate', 'fate', 'even', 'one', 'second', 'different', 'could', 'change', 'whole', 'life', 'twist', 'turn', 'movie', 'lola', 'race', 'protect', 'destiny', 'lover', 'run', 'lola', 'run']\n",
       "309     ['novel', 'enjoyable', 'restaurant', 'antoine', 'ever', 'eat', 'wonderful', 'restaurant', 'antoine', 'french', 'quarter', 'new', 'orleans', 'many', 'theme', 'mardi', 'gras', 'private', 'room', 'definitely', 'enjoy', 'book', 'even', 'eat', 'antoine', 'interested', 'new', 'orleans', 'society', 'century', 'find', 'delightful', 'addition', 'home', 'late', 'author', 'france', 'parkinson', 'keyes', 'open', 'public', 'new', 'orleans', 'actually', 'call', 'beauregard', 'keyes', 'house', 'confederate', 'general', 'beauregard', 'stay', 'france', 'parkinson', 'keyes', 'author', 'also', 'write', 'novel', 'house', 'call', 'madame', 'castel', 'lodger', 'fill', 'interesting', 'history', 'general', 'phyllis', 'zimbler', 'miller']\n",
       "9415                                                                                                                                                                                           ['buddy', 'cat', 'best', 'hear', 'cd', 'clip', 'interview', 'ry', 'cooder', 'npr', 'immediately', 'order', 'book', 'cd', 'great', 'union', 'member', 'glad', 'musical', 'record', 'history', 'movement', 'teach', 'year', 'school', 'buddy', 'friend', 'journey', 'across', 'dusty', 'violent', 'america', 'try', 'find', 'work', 'picture', 'story', 'book', 'priceless', 'traveler', 'many', 'adventure', 'buddy', 'get', 'throw', 'jail', 'red', 'great', 'joke', 'union', 'buster', 'enjoy', 'send', 'another', 'copy', 'brother', 'california', 'love']\n",
       "Name: text_final, dtype: object"
      ]
     },
     "execution_count": 30,
     "metadata": {},
     "output_type": "execute_result"
    }
   ],
   "source": [
    "train_X.head()"
   ]
  },
  {
   "cell_type": "markdown",
   "metadata": {},
   "source": [
    "#### Use ML algorithm to predict the outcome"
   ]
  },
  {
   "cell_type": "markdown",
   "metadata": {},
   "source": [
    "#### Implementing Naive Bayes"
   ]
  },
  {
   "cell_type": "code",
   "execution_count": 31,
   "metadata": {},
   "outputs": [
    {
     "name": "stdout",
     "output_type": "stream",
     "text": [
      "Naive Bayes Accuracy Score on Train set ->  92.35714285714286\n",
      "Naive Bayes Accuracy Score on Validation set ->  81.53333333333333\n"
     ]
    }
   ],
   "source": [
    "# fit the training dataset on the NB classifier\n",
    "Naive = naive_bayes.MultinomialNB()\n",
    "Naive.fit(train_X_Tfidf,train_y)\n",
    "\n",
    "# predict the labels on train dataset\n",
    "pred_train = Naive.predict(train_X_Tfidf)\n",
    "\n",
    "# predict the labels on validation dataset\n",
    "pred_test = Naive.predict(test_X_Tfidf)\n",
    "\n",
    "# Use accuracy_score function to get the accuracy\n",
    "print(\"Naive Bayes Accuracy Score on Train set -> \", accuracy_score(train_y, pred_train)*100)\n",
    "print(\"Naive Bayes Accuracy Score on Validation set -> \", accuracy_score(test_y, pred_test)*100)"
   ]
  },
  {
   "cell_type": "code",
   "execution_count": 32,
   "metadata": {},
   "outputs": [
    {
     "name": "stdout",
     "output_type": "stream",
     "text": [
      "Classification Report on Train Data\n",
      "              precision    recall  f1-score   support\n",
      "\n",
      "    label__1       0.90      0.96      0.93      3571\n",
      "    label__2       0.95      0.89      0.92      3429\n",
      "\n",
      "    accuracy                           0.92      7000\n",
      "   macro avg       0.93      0.92      0.92      7000\n",
      "weighted avg       0.93      0.92      0.92      7000\n",
      "\n",
      "\n",
      "\n",
      "Classification Report on Test Data\n",
      "              precision    recall  f1-score   support\n",
      "\n",
      "    label__1       0.79      0.87      0.83      1526\n",
      "    label__2       0.85      0.76      0.80      1474\n",
      "\n",
      "    accuracy                           0.82      3000\n",
      "   macro avg       0.82      0.81      0.81      3000\n",
      "weighted avg       0.82      0.82      0.81      3000\n",
      "\n"
     ]
    }
   ],
   "source": [
    "from sklearn.metrics import classification_report\n",
    "\n",
    "print(\"Classification Report on Train Data\")\n",
    "print(classification_report(train_y,pred_train,digits=2))\n",
    "print(\"\\n\")\n",
    "\n",
    "print(\"Classification Report on Test Data\")\n",
    "print(classification_report(test_y,pred_test,digits=2))"
   ]
  },
  {
   "cell_type": "markdown",
   "metadata": {},
   "source": [
    "#### Implementing SVM"
   ]
  },
  {
   "cell_type": "code",
   "execution_count": 33,
   "metadata": {},
   "outputs": [
    {
     "name": "stdout",
     "output_type": "stream",
     "text": [
      "SVM Accuracy Score on Train set ->  96.28571428571429\n",
      "SVM Accuracy Score on Validation set ->  84.36666666666667\n"
     ]
    }
   ],
   "source": [
    "# Classifier - Algorithm - SVM\n",
    "# fit the training dataset on the classifier\n",
    "SVM = svm.SVC(kernel='linear')\n",
    "SVM.fit(train_X_Tfidf,train_y)\n",
    "\n",
    "# predict the labels on train dataset\n",
    "pred_train1 = SVM.predict(train_X_Tfidf)\n",
    "\n",
    "# predict the labels on validation dataset\n",
    "pred_test1 = SVM.predict(test_X_Tfidf)\n",
    "\n",
    "# Use accuracy_score function to get the accuracy\n",
    "print(\"SVM Accuracy Score on Train set -> \", accuracy_score(train_y, pred_train1)*100)\n",
    "print(\"SVM Accuracy Score on Validation set -> \",accuracy_score(test_y, pred_test1)*100)"
   ]
  },
  {
   "cell_type": "code",
   "execution_count": 34,
   "metadata": {},
   "outputs": [
    {
     "name": "stdout",
     "output_type": "stream",
     "text": [
      "Classification Report on Train Data\n",
      "              precision    recall  f1-score   support\n",
      "\n",
      "    label__1       0.97      0.96      0.96      3571\n",
      "    label__2       0.96      0.97      0.96      3429\n",
      "\n",
      "    accuracy                           0.96      7000\n",
      "   macro avg       0.96      0.96      0.96      7000\n",
      "weighted avg       0.96      0.96      0.96      7000\n",
      "\n",
      "\n",
      "\n",
      "Classification Report on Test Data\n",
      "              precision    recall  f1-score   support\n",
      "\n",
      "    label__1       0.85      0.84      0.85      1526\n",
      "    label__2       0.84      0.84      0.84      1474\n",
      "\n",
      "    accuracy                           0.84      3000\n",
      "   macro avg       0.84      0.84      0.84      3000\n",
      "weighted avg       0.84      0.84      0.84      3000\n",
      "\n"
     ]
    }
   ],
   "source": [
    "from sklearn.metrics import classification_report\n",
    "\n",
    "print(\"Classification Report on Train Data\")\n",
    "print(classification_report(train_y,pred_train1,digits=2))\n",
    "print(\"\\n\")\n",
    "\n",
    "print(\"Classification Report on Test Data\")\n",
    "print(classification_report(test_y,pred_test1,digits=2))"
   ]
  },
  {
   "cell_type": "markdown",
   "metadata": {},
   "source": [
    "#### Implementing Logistic Regression"
   ]
  },
  {
   "cell_type": "code",
   "execution_count": 35,
   "metadata": {},
   "outputs": [],
   "source": [
    "from sklearn.linear_model import LogisticRegression\n",
    "\n",
    "logreg = LogisticRegression()\n",
    "logreg.fit(train_X_Tfidf,train_y)\n",
    "\n",
    "# predict the labels on train dataset\n",
    "pred_train2 = logreg.predict(train_X_Tfidf)\n",
    "\n",
    "# predict the labels on validation dataset\n",
    "pred_test2 = logreg.predict(test_X_Tfidf)\n"
   ]
  },
  {
   "cell_type": "code",
   "execution_count": 36,
   "metadata": {},
   "outputs": [
    {
     "name": "stdout",
     "output_type": "stream",
     "text": [
      "Classification Report on Train Data\n",
      "              precision    recall  f1-score   support\n",
      "\n",
      "    label__1       0.93      0.93      0.93      3571\n",
      "    label__2       0.93      0.93      0.93      3429\n",
      "\n",
      "    accuracy                           0.93      7000\n",
      "   macro avg       0.93      0.93      0.93      7000\n",
      "weighted avg       0.93      0.93      0.93      7000\n",
      "\n",
      "\n",
      "\n",
      "Classification Report on Test Data\n",
      "              precision    recall  f1-score   support\n",
      "\n",
      "    label__1       0.85      0.85      0.85      1526\n",
      "    label__2       0.85      0.85      0.85      1474\n",
      "\n",
      "    accuracy                           0.85      3000\n",
      "   macro avg       0.85      0.85      0.85      3000\n",
      "weighted avg       0.85      0.85      0.85      3000\n",
      "\n"
     ]
    }
   ],
   "source": [
    "from sklearn.metrics import classification_report\n",
    "\n",
    "print(\"Classification Report on Train Data\")\n",
    "print(classification_report(train_y,pred_train2,digits=2))\n",
    "print(\"\\n\")\n",
    "\n",
    "print(\"Classification Report on Test Data\")\n",
    "print(classification_report(test_y,pred_test2,digits=2))"
   ]
  },
  {
   "cell_type": "markdown",
   "metadata": {},
   "source": [
    "#### Implementing Decision Trees"
   ]
  },
  {
   "cell_type": "code",
   "execution_count": 41,
   "metadata": {},
   "outputs": [],
   "source": [
    "from sklearn import tree\n",
    "from sklearn.tree import DecisionTreeClassifier\n",
    "from sklearn.model_selection import GridSearchCV\n",
    "\n",
    "dt = tree.DecisionTreeClassifier()\n",
    "\n",
    "#dt_param_grid = {'classifier_criterion': ['entropy', 'gini'], 'classifier_max_depth': [6,8,10,12], \"classifier_min_samples_split\": [2, 10, 20],\"classifier_min_samples_leaf\": [1, 5, 10]}\n",
    "\n",
    "#dt_grid = GridSearchCV(dt, param_grid=dt_param_grid, cv=5)\n",
    "\n",
    "dt.fit(train_X_Tfidf,train_y)\n",
    "\n",
    "# predict the labels on train dataset\n",
    "pred_train3 = dt.predict(train_X_Tfidf)\n",
    "\n",
    "# predict the labels on validation dataset\n",
    "pred_test3 = dt.predict(test_X_Tfidf)\n"
   ]
  },
  {
   "cell_type": "code",
   "execution_count": 42,
   "metadata": {},
   "outputs": [
    {
     "name": "stdout",
     "output_type": "stream",
     "text": [
      "Classification Report on Train Data\n",
      "              precision    recall  f1-score   support\n",
      "\n",
      "    label__1       1.00      1.00      1.00      3571\n",
      "    label__2       1.00      1.00      1.00      3429\n",
      "\n",
      "    accuracy                           1.00      7000\n",
      "   macro avg       1.00      1.00      1.00      7000\n",
      "weighted avg       1.00      1.00      1.00      7000\n",
      "\n",
      "\n",
      "\n",
      "Classification Report on Test Data\n",
      "              precision    recall  f1-score   support\n",
      "\n",
      "    label__1       0.73      0.72      0.72      1526\n",
      "    label__2       0.71      0.73      0.72      1474\n",
      "\n",
      "    accuracy                           0.72      3000\n",
      "   macro avg       0.72      0.72      0.72      3000\n",
      "weighted avg       0.72      0.72      0.72      3000\n",
      "\n"
     ]
    }
   ],
   "source": [
    "from sklearn.metrics import classification_report\n",
    "\n",
    "print(\"Classification Report on Train Data\")\n",
    "print(classification_report(train_y,pred_train3,digits=2))\n",
    "print(\"\\n\")\n",
    "\n",
    "print(\"Classification Report on Test Data\")\n",
    "print(classification_report(test_y,pred_test3,digits=2))"
   ]
  },
  {
   "cell_type": "code",
   "execution_count": 36,
   "metadata": {},
   "outputs": [],
   "source": [
    "from wordcloud import WordCloud\n",
    "import matplotlib.pyplot as plt"
   ]
  },
  {
   "cell_type": "code",
   "execution_count": 37,
   "metadata": {},
   "outputs": [
    {
     "data": {
      "image/png": "[encoded data removed]",
      "text/plain": [
       "<Figure size 720x576 with 1 Axes>"
      ]
     },
     "metadata": {
      "needs_background": "light"
     },
     "output_type": "display_data"
    }
   ],
   "source": [
    "wordcloud = WordCloud(max_font_size=80,max_words=30, background_color=\"red\").generate(str(train_X))\n",
    "plt.figure(figsize=(10,8))\n",
    "plt.imshow(wordcloud)\n",
    "plt.axis(\"off\")\n",
    "plt.show()"
   ]
  }
 ],
 "metadata": {
  "kernelspec": {
   "display_name": "Python 3",
   "language": "python",
   "name": "python3"
  },
  "language_info": {
   "codemirror_mode": {
    "name": "ipython",
    "version": 3
   },
   "file_extension": ".py",
   "mimetype": "text/x-python",
   "name": "python",
   "nbconvert_exporter": "python",
   "pygments_lexer": "ipython3",
   "version": "3.7.4"
  }
 },
 "nbformat": 4,
 "nbformat_minor": 2
}
